{
  "nbformat": 4,
  "nbformat_minor": 0,
  "metadata": {
    "colab": {
      "provenance": []
    },
    "kernelspec": {
      "name": "python3",
      "display_name": "Python 3"
    },
    "language_info": {
      "name": "python"
    }
  },
  "cells": [
    {
      "cell_type": "markdown",
      "source": [
        "![images.png](data:image/png;base64,iVBORw0KGgoAAAANSUhEUgAAAaIAAAB5CAMAAABMW9UFAAAAwFBMVEX///8AAAAAZqgthL2Rvdo8PDzCwsIAYaZwmMLn5+cAXaS2trazs7P09PTx8fGLutgjgLukpKSUlJREf7VXl8e1yt/Y5/F7q9KGhoZOTk6vy+KArtKnwNnQ0NCqqqouLi4cHBzMzMzd3d2cnJxERERxcXEVFRVoaGgyMjIjIyNgYGB7e3uJiYlVVVVbW1tJSUkLbKzm7vXF2+sAWKIceLRTirvC0+Rrl8KoxuCGp8q00uVmo8ydxN45i8CXtdMudrBKaRQYAAARz0lEQVR4nO2d+WObNhvHcTeTEo7ErIfd1thgYxvwkaTpta3b//9fvTqQkEAISSF2upfvD2uG0flBjx4JSVjWoKcpcPxLZ2FQq5LVbATkXTofg1rk7kZY7qVz8qtrshiNjnHv0Qan0eiMiB7ef9TT+/fvXwN9sqyv315rCoQFyX0/Q7GQ1rgaJz1Hm4xGZ0X04fFWWY93r65KXX+zrE+fr5R191il8/4MxYLak3pMeo02YAidpS/6cPubkm7v7l4xunoNEF2/UtLdI5fG2RBtSD1GvUZ7pHzWK9fpNWqxlBA93tWrXRnR3WMDdhuieIUV8k99EJaXA82i0arcG9VMi+Yk1o3dZ7QSKSBq8FFG1OQjQxSKrYdDLus+sWsSsNe6TEms/bshLepCdCsCpIZICOiMiOIy3M6oYtpEcnPsNVaZ5IhaAKkgumuL+GyILBf1RjNdAykVzU2/HZxMMkStgLoRtbSg8yKyfHs16dke2SQ3837jlUiC6FHSRjoQtQM6K6JnkPuCEMkAdSC6kwD61RFNXg6idhvXiUjWhAZE+hIjkvRCXYha3YQBkaGEiORGToqoown1j8gPAiOXDYRrfdkjibMTUSCJt/MmYboiRN2EWhF1E+oLke/Eq2I7O+2yLDsd0zBuFC5IHKikOUXnx9N8nWXrQzqpcfcTD0QKfluc8iKq/QgjpJl0UdxsRTv2Pj2eFijeVSJGkHj7ND+dQJ7Hp23hMQk4UZGDwIt1Xth8UQSIuoycBJECoV4QBW5K3thQbdLag120Nb+IDbutCPpxMebjPHAz2at6kkxWk/2M/2W8qkMK3O2iHj7HYwLf40MXbJabiFQItSBSmpJ9OiJn26wrpJR7/KbkMv9QJutaqHIQGoQN6kAnpg1Omj+XCGs1jJVxfINiI7gHPCIB84awElMHdUSdjoIEkdqk+dMRecKyQq3Zp0+MyG4EKpNLGj9gVTN8rYj8pThoyKQbt+V5Ny9El1etiNQICREpAeoDkSsqEtaawSFE1CQ0Ij+dmj8hUfvZ3orC5i+1eq5myFVFH40aIkVCIkSKL576RXRI96uwqF7hjAo5IrapbHYZF6JsnOttAZRXDWNMbmjvi8o87nIYlO0mKzPJIDqlU5DpQz2ufLras2FJtnlEqoQEiFQJ9YloRUrB9E6VzyBCVPVDRRL4gRPnTABwNbXJuqug6iBInxI4jEdnI3eRuAT5aHSMyP/585zclTYRUVfAoe81oEJ82Y/oFfKai0Ok4G23IVLx5XpHxLhwtLhVMxIgqkwVnV1lXiatVlyv5RMf4MBcbBkXxQXv2pO0NzTTFBGTYGUfF1V0lSkuL7CI1Ak1EKkTeiZE9K4F9XWbiPysQUgmWquM+6w6u0CaIAVCI2P9PNr9sUtgqNkuM8kgulUnVEcknzg9B6KqGdHbmoioEVF8VX5qpqOKKKynJEREM8S+fbJrFxlEyh1RE5EGoedCROuOWpwmolkjKrkIdqYCVRGRPObkghARvcgioi5N2bQqRDqEaoiUXYVnRESfPWpaGojo8qqtvHqpSAyM76yKiFT+rH6BQ+SLEAVLPlmKSKMjqiPSMXOXROSKE2gXiYEZgqoiIk1BjoiuhBAiqrciLUI8Ii1CF0Q0bcQkreQ4Jh23LiJnbpMxVI+I9BoRh0jDm7ssIjJ4WnS9vZh76Zid09FAlNjTU8YE7Q+RjjdXQ6Rn5i6IyCeO8MySKHCPjRk3VURxmtWD9odIy1fgEWn5ChdFRKaaJd5CNS+gjcjZi6aye0Ok24gYRLqN6HKIqEOXWi1K+JnUNWl2CogCbjZntCD+fW+IdBsRg0i3Eb0ARMxUKye6lQJUcegGOh4dO4FeREn/Hp12I6oQaTeil4uosnHllKY6omrusyiv941IuxFViLQb0QtAJDZ0NPlpY5avC1FMLlaLk3tGpN+IKCL9RvQCEAndBZoMM6OpimjXjLhnRPqNiCLSHBNdFJFPFnewLxeoSHfPNjFFRCQ/SyZoz4j0CVFE+oQuOHQl7/OEQ1dyM/veRxERmYQQzYX2g0hzYoFFZGDnLoio+b6iUlz+NGYvqiEKFrV0oPpFZGDnCCIDO6eAiN/iTefmn4yo5RlAIj4Z10+pIaIZFOW6H0QGhAgiA0LtiGjN8xvgaKUEjRs1EcXkgsClW4l+UkNEKp9rgL0iMvDnCCITOyfZjkzyyz2OdLgypr7wk98XjZqd0YtGZGLnSkQmdq4dEZ1D45YIVitn6CVTRHSqW/BinFR9zl7UQ/R8hu4JiPTHrTJEzIkGTF9Ml0pVK0KMEVXTNI2l+CRObu+yGiKHPFqsF9InIhN/rkR0ZUJIgiimNUg79IQSWjerUxuRRVfVV353aT6dRnBL2ekmsbJt84UgMvIWZKeXMIvXx5N5kHjM+nqmZOaIqmZEDrbwyAos8iwsmBVZiojo9Cuz9KtPREZ2DiMy8hZkiOij3BTrDJsjshjmiyLcw90KUS3SXRUrWQ/fgajKdlXTcY+IjAhhREbegvQMoNY9D2N2s84TEDmNHT7UEaua8GFlO35ih/RK1xwds6o0dBPfiSf0UegD0dVLQsTM6vPVyHnJT0Ak2qKS1Gqmqc6XEcJ3tb0hUjwO60yIRJtLgCfMj2OegohxQIimpGradq8ovNITbhGCOv33EFlBYwteVj/L5UmI6q+w2ROxVsKNdOtIYU23PRYFXUyby+67EZFcPB3Rd6NhUfd5dEnBPuizqLGx110ukJYcog2+uKFuVZjhK1l9LmG+rWzajjtDLfAO/Bqe3XHCD6GiMu2sMbKKt3z7zGb7OZP1eZm/JXeu16i8yM4aBuPyIlnT/fIQwfJ4022e52loC1cl+qXkF33hbUhwt3m+LfZ2czd5MLdXRZHnRRF6c8G+7/ZILT+JJzBoWkyjOKk/GGqZFmRc9WhGASLVAyENEA1iNCB68dI5g5bR9Wu9k29ZDYj09PbfP4z0w7L+fGOmfy5d5kGDBv2f6d1bMz1Y1v07M91fusy/mD59vjbR52+W9XBjpj8vXeZfTE9wut/d/G6iAZGmnoDooU9EwWk8iBNdB/X1/IgehM+KPYgXnWt8+PxCEA1q0705oj8NEb27dJl/NZkj+mCIaHC6NWW+vGRAdCZ9MVq8gBB9NEL0+6VL/Mvphzmiv4wI/X3pEv9yemvkdSNEb0wIDSNXbZm5dAjRTyNEg0OnLRNC5VtXE3/hyd6CvVy2nIRVrXMQnHAvla/+PQr5nTrftfDWqp+Q+2bSGSFEj0b+gkYhhHLbvtQ6HS3LJR1HzW+AzNU/6rUdZZJPQqTcIZ1ywbViiqeuGc3SYUQG/oKkK4pOB6i1aLMwI7sN0ZgsLI1bzj71t7MjjDxZn/gYJrV9RRLhFXRJJD67YdSSsjPNRlnKNW3wWCxUnyOjzggbOoPOSNIVkZXRHRlvRTTPy2MQxy1PJzy9FkY+r1aglipy1dqKjyu03W8s/HV+DEWXy2WYXKITne/2/mGMyKAzumnPB0CUep7XXNrYKK/8k9TBpMXE+wt8KHPSQKQpn9vu1Cm4jjy3bf6c6InO169NLF2JSN/SfWjPR0jqPvY8aI88D5Yh8SaTCf1Mje255W02uEweQ/C3C3/zEF03isrCxxFzUwMR+hXd6Xje3Ik8RDbxYGK+V/5k+Ta4Ddg2F+TCR4kAMweMlGvDs+tADPh5cOCfQYweML+6jHSsdoEmME2IygVdEfw4DhMFKiksQjxBKTK6N0b0m7alk7ncFNEWr5gejbLqfFdkQMi+iQldwQ0tv4PW+I7h9gSHbuxJmFXUBBKHiF1j7YHqginBm6Yw8XLV+JwkaZcnnzgW+NfHFnlMFo0vHbIHFG6AcejOZnqq/YguKy+XFB/JYm63jALuzSFbZVZ4yTLfORrMAZWItC2dxM5ViFKCaAetfha50RLVJKiunTvfw9v8Ueq6cAk8KBuotUOUTiBZB9bHMvI28E+Acey6q6qyOEQA5Qk1SfArRATPNolRLa7hb7ntZrBmQfDcXUEEW3u/Qz6Jb4MMZkUIbgtdt0A1Dup370bWAcaWgD/dfbVtNqrqu1hMXPcACzAFIQ7F3INRpHCHmw/SD10PQjy43rJmzQ0mGAgizQkG6dRCCyK4QyeGhQg2yKtm+iIPkovIFj6ECIe14cZTG2/RD6lHXUe0J4kiRBFqqg787wztOZnDP1e4yxiNNjiOMWoRbF+0hVdmuAkeqrYzpZsninrXB8wk3xflsGBrFNaBtgOlzfd2ZoedoQXDes3oRuYKlB5dLkDkQAwuPrmaQeTCYm5JXUBE/g5vVs1GS4IoojVURzTFUawwIuymgZpLghLqGORlhe3kiGzZR4g4d6GAVTvDAyIGUUj975Q/pQBmbsR7dCk0zBgRyCNsfQ2fUd9hIIg0HQaJs0ARpQJECURU4L1DJaL5dIF7kox8OwMiSkqjAmqSQbRXQQQ/P+CASJCdg+cy2gA3QQQQLOwmIjdFe4GCGiIbf/GrRLRlEPlR2WtRROWWaxaRL0Dkm7ei37QakXTyh1qkFkR5WX6ECJR0HO0hohEZ75eIkPO0NkA0gY9AaSFneAfSmiBCpxPDPUUsIrjh7+DmdUQOuGfmpRRRUW33h25IYS8rRHPAcuseuxFZ/+g2I4pIqxl9lxGS9UUEUUIQ5ciS2yWigEWUmiICaaVzmDQImB33bgxTWxF75K6RZ8EgAtEtEtTp8IgylM8VRbSi+93n+HyjytCBiDIHQexE5JscAl1uXumrEXUiKnAHixDhywgRnfeBiJxyd+lOiAhXXhsiYOnGe9gTJIxlWlVdxhYmzCCKcd9YRzTHoStEc+pTFviPClGEi6SCSLs3qhCpN6OuN0UsoliAyMYVCf6JAlz7CNGUfP8CeXQn5HEhUg1EsCJdkpAAEai1Jbw3WHIfZyOI0F0MIhvHVkcU4xAVIlj5U1Iwi0NU3qSEyPpDb2zEtCLlsZHUnWMRYcsQ1BHB6nHLmW7sYaFKmqMxZpJgRNh/K2D5m4hAxEvPwSMlAaKgHK7CnGwBCGfiE0Qrxw/GZZtFiJYJTDgVIEpwlhlEcJxdJEno73FkFSIXZ0IN0YNeM2J36SmOjTrXz1FEqKpQ/8wjgjDWORrVgXuzMDwgZniEvsWIYGUtl8jmNxHREfzEEiFCfhv8F32ibbGBvDAi8jlDMi6CLxIOEMgs3O/qTjfo/E/hfsxMepcn0KzgXvA0LBiPDtx1DPcLBlGGRg3CidofWoxYRLfvlRB1rllYbTblGDOZQad1OfOAzVnCDtbZbGBtJ2ir9yIHHUqENtEvttC2wymTzdRKN9AZ8AtwTwah2JsNrHhvs6mGJSGcXVlD9zkebfYI0WYC/4MsUbTZlEMoWGvAZ0isyQY+Bc4WhFsWoO5OS+ic+CAjueWjuzbjqW8dlwgReH5AFkI0HNgV1VsVD+Z254J4YAGyNXhEcMR+kaEo9r51WMKZJH+8XENE2bL5ZQv/Xx1Tx+91VTF13W9bfeYb6E4yx1uuffy9dPLZ9CChL1SdJKFvEBJ4MwnvJ+VG74APW/44L0Oxv9LoqxwkZSxVpAGbST8hdznMZfJrwuSNROeQePiImlE0M030YIxIZRpoWCbch3QGR3wr6vbqbqTzCoNUpTHjXdvUf9u5iuHSZfuPSKM7apy70NEdDYuEe9K7O1VGDUTSl3vD2rn+pOwyNBDJXIbBVehTX00RSRgNhPrVV7V2JDgDqI3RQKhvqTESHdMkZjQQ6l9fXylAEp6kJWI0EHoOvVPwvcWHnd3+bPjegy/3LLr/0jnP0HYeHc/o5u9hPPRc6pz2bj8ykJkLuvmgvE1gkLa+dgxi2xHdviENaeiGnlf336QbJiQHb97+/DgYufPo7Z3E2snPRoUNaWhCZ5D/47rV2skR3d7+PfRC5xGwdi2QZIhuH98Mrvb59O61uCVJ3IXHvwYbd17d/3gloNSCCB7xPLSgC+jtl891SsI5OmDhhpHQpeR/+nZ9fXXVjugW8vk+uNmX1cM/X64+E1DMgmFI5/HNzcPQfl6E7r9++vHl37vrz5+/WNb3u8fHnz//+vj969D9DBo0aNAgM/0PZF0zEX9yT7EAAAAASUVORK5CYII=)\n",
        "\n",
        "\n",
        "**Taller 2**\n",
        "\n",
        "CURSO DE PYTHON\n",
        "\n",
        "DIRECCION DE EDUCACIÓN CONTINUA\n",
        "\n",
        "FUNDACION UNIVERSITARIA CAFAM\n",
        "\n",
        "DOCENTE: NICOLAS MOJICA GOMEZ\n",
        "\n",
        "ESTUDIANTE: **Ronnie Cristancho**\n",
        "\n",
        "\n",
        "---\n",
        "\n"
      ],
      "metadata": {
        "id": "KkKwwYXyeL82"
      }
    },
    {
      "cell_type": "markdown",
      "source": [
        "CONDICIONALES"
      ],
      "metadata": {
        "id": "v9wXukSFuVdU"
      }
    },
    {
      "cell_type": "markdown",
      "source": [
        "Ejercicios de las Condicionales"
      ],
      "metadata": {
        "id": "CID3djTZfk3m"
      }
    },
    {
      "cell_type": "markdown",
      "source": [
        "Crea un programa que verifique si una persona es mayor de edad. Una persona es considerada mayor de edad si tiene 18 años o más."
      ],
      "metadata": {
        "id": "YLK8jqHIfymS"
      }
    },
    {
      "cell_type": "code",
      "source": [
        "def verificar_mayoria_edad(edad):\n",
        "    if edad >= 18:\n",
        "        return \"Eres mayor de edad.\"\n",
        "    else:\n",
        "        return \"Eres menor de edad.\"\n",
        "edad_usuario = int(input(\"Por favor, ingresa tu edad: \"))\n",
        "resultado = verificar_mayoria_edad(edad_usuario)\n",
        "print(resultado)"
      ],
      "metadata": {
        "colab": {
          "base_uri": "https://localhost:8080/"
        },
        "id": "dIjVVNKmfqdl",
        "outputId": "96848667-fbf2-411f-f796-66510c9fe3cc"
      },
      "execution_count": 3,
      "outputs": [
        {
          "output_type": "stream",
          "name": "stdout",
          "text": [
            "Por favor, ingresa tu edad: 24\n",
            "Eres mayor de edad.\n"
          ]
        }
      ]
    },
    {
      "cell_type": "markdown",
      "source": [
        "Escribe un programa que verifique si un número ingresado por el usuario es par o impar."
      ],
      "metadata": {
        "id": "yJU9yDC5gQpR"
      }
    },
    {
      "cell_type": "code",
      "source": [
        "numero = int(input(\"Por favor, ingresa un número: \"))\n",
        "if numero % 2 == 0:\n",
        "    print(f\"El número {numero} es par.\")\n",
        "else:\n",
        "    print(f\"El número {numero} es impar.\")"
      ],
      "metadata": {
        "colab": {
          "base_uri": "https://localhost:8080/"
        },
        "id": "_0eja2TYgTuV",
        "outputId": "0e412e25-d9c3-41fd-cf0b-a9cd524042ea"
      },
      "execution_count": 5,
      "outputs": [
        {
          "output_type": "stream",
          "name": "stdout",
          "text": [
            "Por favor, ingresa un número: 27\n",
            "El número 27 es impar.\n"
          ]
        }
      ]
    },
    {
      "cell_type": "markdown",
      "source": [
        "Escribe un programa que clasifique la edad en diferentes categorías: Niño (0-12 años), Adolescente (13-17 años), Adulto (18-64 años) y Anciano (65 años o más)."
      ],
      "metadata": {
        "id": "_een67d_l5Hl"
      }
    },
    {
      "cell_type": "code",
      "source": [
        "def clasificar_edad(edad):\n",
        "    if edad >= 0 and edad <= 12:\n",
        "        return \"Niño\"\n",
        "    elif edad >= 13 and edad <= 17:\n",
        "        return \"Adolescente\"\n",
        "    elif edad >= 18 and edad <= 64:\n",
        "        return \"Adulto\"\n",
        "    elif edad >= 65:\n",
        "        return \"Anciano\"\n",
        "    else:\n",
        "        return \"Edad no válida\"\n",
        "try:\n",
        "    edad_usuario = int(input(\"Por favor, ingresa tu edad: \"))\n",
        "    categoria = clasificar_edad(edad_usuario)\n",
        "    print(f\"La categoría de edad es: {categoria}\")\n",
        "except ValueError:\n",
        "    print(\"Por favor, ingresa un número válido.\")"
      ],
      "metadata": {
        "colab": {
          "base_uri": "https://localhost:8080/"
        },
        "id": "PK6ARwbVmG9u",
        "outputId": "afcca6da-e9f8-48d2-b024-8ee4bf120cbd"
      },
      "execution_count": 7,
      "outputs": [
        {
          "output_type": "stream",
          "name": "stdout",
          "text": [
            "Por favor, ingresa tu edad: 15\n",
            "La categoría de edad es: Adolescente\n"
          ]
        }
      ]
    },
    {
      "cell_type": "markdown",
      "source": [
        "Crea un programa que lea dos números y determine cuál es mayor, cuál es menor o si ambos son iguales."
      ],
      "metadata": {
        "id": "gcNcw0EWmW8Z"
      }
    },
    {
      "cell_type": "code",
      "source": [
        "def comparar_numeros(num1, num2):\n",
        "    if num1 > num2:\n",
        "        return f\"El número mayor es {num1} y el menor es {num2}.\"\n",
        "    elif num1 < num2:\n",
        "        return f\"El número mayor es {num2} y el menor es {num1}.\"\n",
        "    else:\n",
        "        return \"Ambos números son iguales.\"\n",
        "try:\n",
        "    numero1 = float(input(\"Por favor, ingresa el primer número: \"))\n",
        "    numero2 = float(input(\"Por favor, ingresa el segundo número: \"))\n",
        "    resultado = comparar_numeros(numero1, numero2)\n",
        "    print(resultado)\n",
        "except ValueError:\n",
        "    print(\"Por favor, ingresa valores numéricos válidos.\")"
      ],
      "metadata": {
        "colab": {
          "base_uri": "https://localhost:8080/"
        },
        "id": "ITKEVZv2mfVY",
        "outputId": "2a30ef24-95e4-4b97-d2cf-2f859e4ae8ab"
      },
      "execution_count": 8,
      "outputs": [
        {
          "output_type": "stream",
          "name": "stdout",
          "text": [
            "Por favor, ingresa el primer número: 10\n",
            "Por favor, ingresa el segundo número: 51\n",
            "El número mayor es 51.0 y el menor es 10.0.\n"
          ]
        }
      ]
    },
    {
      "cell_type": "markdown",
      "source": [
        "Escribe un programa que pida al usuario una contraseña y verifique si es correcta. La contraseña correcta es \"secreta123\"."
      ],
      "metadata": {
        "id": "KAwzDflMocTS"
      }
    },
    {
      "cell_type": "code",
      "source": [
        "contraseña_correcta = \"secreta123\"\n",
        "contraseña_usuario = input(\"Por favor, ingresa la contraseña: \")\n",
        "if contraseña_usuario == contraseña_correcta:\n",
        "    print(\"¡Contraseña correcta! Acceso concedido.\")\n",
        "else:\n",
        "    print(\"Contraseña incorrecta. Acceso denegado.\")"
      ],
      "metadata": {
        "colab": {
          "base_uri": "https://localhost:8080/"
        },
        "id": "uK7jVeSsodW-",
        "outputId": "77cb6771-a2d3-43e1-aea0-124b6373fadc"
      },
      "execution_count": 10,
      "outputs": [
        {
          "output_type": "stream",
          "name": "stdout",
          "text": [
            "Por favor, ingresa la contraseña: secreta123\n",
            "¡Contraseña correcta! Acceso concedido.\n"
          ]
        }
      ]
    },
    {
      "cell_type": "markdown",
      "source": [
        "Crea un programa que determine si un número ingresado por el usuario está en el rango de 1 a 100 (inclusive) y si es divisible por 5."
      ],
      "metadata": {
        "id": "Ob1HMQpRoqXr"
      }
    },
    {
      "cell_type": "code",
      "source": [
        "numero = int(input(\"Por favor, ingresa un número: \"))\n",
        "\n",
        "if 1 <= numero <= 100 and numero % 5 == 0:\n",
        "    print(f\"El número {numero} está en el rango de 1 a 100 y es divisible por 5.\")\n",
        "else:\n",
        "    print(f\"El número {numero} no cumple con las condiciones.\")"
      ],
      "metadata": {
        "colab": {
          "base_uri": "https://localhost:8080/"
        },
        "id": "Eub71zkKotwA",
        "outputId": "315c3ac2-3a30-4678-ab58-64319c33cebe"
      },
      "execution_count": 12,
      "outputs": [
        {
          "output_type": "stream",
          "name": "stdout",
          "text": [
            "Por favor, ingresa un número: 45\n",
            "El número 45 está en el rango de 1 a 100 y es divisible por 5.\n"
          ]
        }
      ]
    },
    {
      "cell_type": "markdown",
      "source": [
        "FUNCIONES"
      ],
      "metadata": {
        "id": "Fbw84yiquZP4"
      }
    },
    {
      "cell_type": "markdown",
      "source": [
        "Ejercicios con funciones"
      ],
      "metadata": {
        "id": "pfkGpz-MpgUf"
      }
    },
    {
      "cell_type": "markdown",
      "source": [
        "Escribe una función que reciba la edad de una persona como parámetro y determine si la persona es mayor de edad (18 años o más) o menor de edad."
      ],
      "metadata": {
        "id": "yTPfym7trAcm"
      }
    },
    {
      "cell_type": "code",
      "source": [
        "def es_mayor_de_edad(edad):\n",
        "    if edad >= 18:\n",
        "        return \"La persona es mayor de edad.\"\n",
        "    else:\n",
        "        return \"La persona es menor de edad.\"\n",
        "try:\n",
        "    edad_usuario = int(input(\"Por favor, ingresa tu edad: \"))\n",
        "    resultado = es_mayor_de_edad(edad_usuario)\n",
        "    print(resultado)\n",
        "except ValueError:\n",
        "    print(\"Por favor, ingresa un número válido.\")"
      ],
      "metadata": {
        "colab": {
          "base_uri": "https://localhost:8080/"
        },
        "id": "i2dquLe_pqnL",
        "outputId": "8bc2516b-b7ec-488a-c282-962e1f8c03f1"
      },
      "execution_count": 14,
      "outputs": [
        {
          "output_type": "stream",
          "name": "stdout",
          "text": [
            "Por favor, ingresa tu edad: 82\n",
            "La persona es mayor de edad.\n"
          ]
        }
      ]
    },
    {
      "cell_type": "markdown",
      "source": [
        "Crea una función que reciba una nota (de 0 a 100) y clasifique la nota en \"Excelente\" (90-100), \"Bueno\" (70-89), \"Suficiente\" (50-69), o \"Insuficiente\" (menos de 50)."
      ],
      "metadata": {
        "id": "4MmGCeJ0rP5V"
      }
    },
    {
      "cell_type": "code",
      "source": [
        "def clasificar_nota(nota):\n",
        "    if nota < 0 or nota > 100:\n",
        "        return \"Nota no válida. Debe estar entre 0 y 100.\"\n",
        "    elif nota >= 90:\n",
        "        return \"Excelente\"\n",
        "    elif nota >= 70:\n",
        "        return \"Bueno\"\n",
        "    elif nota >= 50:\n",
        "        return \"Suficiente\"\n",
        "    else:\n",
        "        return \"Insuficiente\"\n",
        "try:\n",
        "    nota_usuario = float(input(\"Por favor, ingresa la nota (0-100): \"))\n",
        "    resultado = clasificar_nota(nota_usuario)\n",
        "    print(f\"La clasificación de la nota es: {resultado}\")\n",
        "except ValueError:\n",
        "    print(\"Por favor, ingresa un número válido.\")"
      ],
      "metadata": {
        "colab": {
          "base_uri": "https://localhost:8080/"
        },
        "id": "-Sn77718rTX6",
        "outputId": "64b8812b-16c9-4c9a-fd5a-1f53b1200a09"
      },
      "execution_count": 17,
      "outputs": [
        {
          "output_type": "stream",
          "name": "stdout",
          "text": [
            "Por favor, ingresa la nota (0-100): 15\n",
            "La clasificación de la nota es: Insuficiente\n"
          ]
        }
      ]
    },
    {
      "cell_type": "markdown",
      "source": [
        "Escribe una función que tome una contraseña y la verifique contra una contraseña predeterminada (\"secreta123\"). La función debe devolver si la contraseña es correcta o incorrecta."
      ],
      "metadata": {
        "id": "b1NxRXocsZ4S"
      }
    },
    {
      "cell_type": "code",
      "source": [
        "def verificar_contraseña(contraseña):\n",
        "    contraseña_predeterminada = \"secreta123\"\n",
        "    if contraseña == contraseña_predeterminada:\n",
        "        return \"La contraseña es correcta.\"\n",
        "    else:\n",
        "        return \"La contraseña es incorrecta.\"\n",
        "contraseña_usuario = input(\"Por favor, ingresa la contraseña: \")\n",
        "resultado = verificar_contraseña(contraseña_usuario)\n",
        "print(resultado)"
      ],
      "metadata": {
        "colab": {
          "base_uri": "https://localhost:8080/"
        },
        "id": "BWSdvpygshjM",
        "outputId": "57d82967-8cd8-4947-e530-b96f9e29bcc3"
      },
      "execution_count": 19,
      "outputs": [
        {
          "output_type": "stream",
          "name": "stdout",
          "text": [
            "Por favor, ingresa la contraseña: secreta123\n",
            "La contraseña es correcta.\n"
          ]
        }
      ]
    }
  ]
}